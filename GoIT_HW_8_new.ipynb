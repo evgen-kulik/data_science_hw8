{
  "cells": [
    {
      "cell_type": "markdown",
      "metadata": {
        "id": "b0Yf4NBJUSNM"
      },
      "source": [
        "# Створення нейронної мережі\n",
        "\n",
        "У цьому завданні ми створимо повнозв'язну нейронну мережу, використовуючи при цьому низькорівневі механізми tensorflow.\n",
        "\n",
        "Архітектура нейромережі представлена на наступному малюнку. Як бачиш, у ній є один вхідний шар, два приховані, а також вихідний шар. В якості активаційної функції у прихованих шарах буде використовуватись сигмоїда. На вихідному шарі ми використовуємо softmax.\n",
        "\n",
        "Частина коду зі створення мережі вже написана, тобі потрібно заповнити пропуски у вказаних місцях."
      ]
    },
    {
      "cell_type": "markdown",
      "metadata": {
        "id": "01rZWUu0USNQ"
      },
      "source": [
        "## Архітектура нейронної мережі\n",
        "\n",
        "<img src=\"http://cs231n.github.io/assets/nn1/neural_net2.jpeg\" alt=\"nn\" style=\"width: 400px;\"/>\n"
      ]
    },
    {
      "cell_type": "markdown",
      "metadata": {
        "id": "LLvIZ705Qw_V"
      },
      "source": [
        "## Про датасет MNIST\n",
        "\n",
        "Дану нейромережу ми будемо вивчати на датасеті MNIST. Цей датасет являє собою велику кількість зображень рукописних цифр розміром $28 \\times 28$ пікселів. Кожен піксель приймає значення від 0 до 255.\n",
        "\n",
        "Як і раніше, датасет буде розділений на навчальну та тестову вибірки. При цьому ми виконаємо нормалізацію всіх зображень, щоб значення пікселів знаходилось у проміжку від 0 до 1, розділивши яскравість кожного пікселя на 255.\n",
        "\n",
        "Окрім того, архітектура нейронної мережі очікує на вхід вектор. У нашому ж випадку кожен об'єкт вибірки являє собою матрицю. Що ж робити? У цьому завданні ми \"розтягнемо\" матрицю $28 \\times 28$, отримавши при цьому вектор, що складається з 784 елементів.\n",
        "\n",
        "![MNIST Dataset](https://www.researchgate.net/profile/Steven-Young-5/publication/306056875/figure/fig1/AS:393921575309346@1470929630835/Example-images-from-the-MNIST-dataset.png)\n",
        "\n",
        "Більше інформації про датасет можна знайти [тут](http://yann.lecun.com/exdb/mnist/)."
      ]
    },
    {
      "cell_type": "code",
      "execution_count": 1,
      "metadata": {
        "id": "il_0_5OyUSNR"
      },
      "outputs": [],
      "source": [
        "import tensorflow as tf\n",
        "import numpy as np\n",
        "import pandas as pd\n",
        "import matplotlib.pyplot as plt\n",
        "import random\n",
        "import keras as K\n",
        "import seaborn as sns\n",
        "from sklearn.metrics import confusion_matrix"
      ]
    },
    {
      "cell_type": "code",
      "execution_count": 2,
      "metadata": {
        "id": "cd-1_abTUSNS"
      },
      "outputs": [],
      "source": [
        "num_classes = 10 # загальна кількість класів, у нашому випадку це цифри від 0 до 9\n",
        "num_features = 784 # кількість атрибутів вхідного вектора 28 * 28 = 784\n",
        "\n",
        "learning_rate = 0.001 # швидкість навчання нейронної мережі\n",
        "training_steps = 3000 # максимальне число епох\n",
        "batch_size = 256 # перераховувати ваги мережі ми будемо не на всій вибірці, а на її випадковій підмножині з batch_size елементів\n",
        "display_step = 100 # кожні 100 ітерацій ми будемо показувати поточне значення функції втрат і точності\n",
        "\n",
        "n_hidden_1 = 128 # кількість нейронів 1-го шару\n",
        "n_hidden_2 = 256 # кількість нейронів 2-го шару"
      ]
    },
    {
      "cell_type": "code",
      "execution_count": 3,
      "metadata": {
        "colab": {
          "base_uri": "https://localhost:8080/"
        },
        "id": "pGTXiRyTUSNT",
        "outputId": "43890f5d-9856-4a66-8397-5a31ac660095"
      },
      "outputs": [
        {
          "output_type": "stream",
          "name": "stdout",
          "text": [
            "Downloading data from https://storage.googleapis.com/tensorflow/tf-keras-datasets/mnist.npz\n",
            "11490434/11490434 [==============================] - 0s 0us/step\n"
          ]
        }
      ],
      "source": [
        "# from tensorflow.keras.datasets import mnist\n",
        "from keras.datasets import mnist\n",
        "\n",
        "# Завантажуємо датасет\n",
        "(x_train, y_train), (x_test, y_test) = mnist.load_data()\n",
        "\n",
        "# Перетворюємо цілочисельні пікселі на тип float32\n",
        "x_train, x_test = np.array(x_train, np.float32), np.array(x_test, np.float32)\n",
        "\n",
        "# Перетворюємо матриці розміром 28x28 пікселів у вектор з 784 елементів\n",
        "x_train, x_test = x_train.reshape([-1, num_features]), x_test.reshape([-1, num_features])\n",
        "\n",
        "# Нормалізуємо значення пікселів\n",
        "x_train, x_test = x_train / 255., x_test / 255.\n",
        "\n",
        "# Перемішаємо тренувальні дані\n",
        "train_data = tf.data.Dataset.from_tensor_slices((x_train, y_train))  #  Створюється Dataset з тензорів \"x_train\" і \"y_train\"\n",
        "train_data = train_data.repeat().shuffle(5000).batch(batch_size).prefetch(1)\n",
        "# train_data.repeat(): додає повторення епох нескінченну кількість разів\n",
        "# shuffle(5000): виконується перемішування даних в Dataset\n",
        "# batch(batch_size): групує дані в батчі (пакети) розміру \"batch_size\"\n",
        "# prefetch(1): додає можливість попереднього завантаження даних. В даному випадку, 1 означає, що буде завантажено один батч даних в оперативну пам'ять"
      ]
    },
    {
      "cell_type": "code",
      "execution_count": null,
      "metadata": {
        "id": "FkRmCQjnUSNV"
      },
      "outputs": [],
      "source": [
        "# Створимо нейронну мережу\n",
        "\n",
        "class DenseLayer(tf.Module):\n",
        "    # Шар для роботи з вагами та зсувами\n",
        "    def __init__(self, in_features, out_features, name=None):\n",
        "        super().__init__(name=name)\n",
        "\n",
        "        self.w = tf.Variable(\n",
        "            tf.random.normal([in_features, out_features]), name=\"w\"\n",
        "        )  # задається тензор (матрицю) ваг з випадковими значеннями, взятими з нормального розподілу (розподіл Гаусса) розміром [in_features, out_features]\n",
        "        # in_features - визначає кількість входів для кожного нейрона, out_features - кількість нейронів у шарі\n",
        "        # tf.Variable(...): використовується для створення змінної TensorFlow, яку можна змінювати під час навчання моделі. Ваги мережі потрібно оновлювати під час процесу навчання\n",
        "        # name=\"w\": аргумент, який визначає ім'я цієї змінної, що може бути використане для отримання доступу до неї та ідентифікації її під час візуалізації моделі\n",
        "\n",
        "        self.b = tf.Variable(tf.zeros([out_features]), name=\"b\")\n",
        "        # tf.zeros([out_features]): створює тензор (масив) розміром [out_features], в якому всі значення встановлені на нуль\n",
        "\n",
        "    def __call__(self, x, activation=0):\n",
        "        # метод __call__ представляє собою операцію, яка викликається, коли екземпляр класу об'єкта використовується як функція. При виклику шару передається вхід x, а також параметр activation\n",
        "        y = tf.matmul(x, self.w) + self.b  # операція матричного множення та подальшого додавання елементів вектора зсуву\n",
        "        if activation != 0:\n",
        "            return tf.nn.softmax(y) # перетворення виходів у ймовірністі, які можуть інтерпретуватися як ймовірність приналежності до кожного класу\n",
        "        else:\n",
        "            return tf.nn.sigmoid(y)  # поверне новий тензор з такими ж розмірами, як і вхідний, але кожен його елемент буде відповідати значенню сигмоїд-функції для відповідного елементу вхідного тензору\n",
        "\n",
        "class NN(tf.Module):\n",
        "  def __init__(self, name=None):\n",
        "    super().__init__(name=name)\n",
        "    # Перший шар, який складається з 128 нейронів\n",
        "    self.layer1 = DenseLayer(in_features=num_features, out_features=n_hidden_1, name=\"layer1\")\n",
        "\n",
        "    # Другий шар, який складається з 256 нейронів\n",
        "    self.layer2 = DenseLayer(in_features=128, out_features=256, name=\"layer2\")\n",
        "\n",
        "    # Вихідний шар\n",
        "    self.output_layer = DenseLayer(in_features=256, out_features=num_classes, name=\"output_layer\")\n",
        "\n",
        "\n",
        "  def __call__(self, x):\n",
        "    # Передача даних через перші два шари та вихідний шар з функцією активації softmax\n",
        "    x = self.layer1(x, activation=1)\n",
        "    x = self.layer2(x, activation=1)\n",
        "    output = self.output_layer(x, activation=1)\n",
        "\n",
        "    return output"
      ]
    },
    {
      "cell_type": "code",
      "execution_count": null,
      "metadata": {
        "id": "LIf3o7VAUSNV"
      },
      "outputs": [],
      "source": [
        "# В якості функції помилки в даному випадку зручно взяти крос-ентропію\n",
        "\n",
        "# Обчислення середніх крос-ентропійних втрат (cross-entropy loss) між one-hot закодованими мітками y_true та передбаченими ймовірностями y_pred\n",
        "def cross_entropy(y_pred, y_true):\n",
        "    # Закодувати label в one hot vector\n",
        "    y_true = tf.one_hot(y_true, depth=num_classes)\n",
        "    # y_true - вектор міток класів\n",
        "    # tf.one_hot - перетворення вектора y_true у матрицю one_hot, де кожен рядок є одним зразком даних,\n",
        "    # а стовпці відповідають унікальним класам. Якщо зразок належить класу, то відповідний стовпець міститиме 1, а решта - 0\n",
        "\n",
        "    # Значення передбачення, щоб уникнути помилки log(0).\n",
        "    y_pred = tf.clip_by_value(y_pred, 1e-9, 1.)\n",
        "    # y_pred - передбаченні значення моделі (в межах від 0 до 1)\n",
        "    # 1e-9 - мале число, додається для того, щоб уникнути ділення на нуль. Тут воно використовується як нижня межа для обмеження\n",
        "    # 1.0 - верхня межа для обмеження. Якщо значення y_pred більше 1, вони будуть замінені на 1\n",
        "    # tf.clip_by_value - обмежує значення y_pred між вказаними межами. Всі значення, менше 1e-9, будуть встановлені на 1e-9, а всі значення, більше 1, будуть встановлені на 1\n",
        "\n",
        "    # Обчислення крос-ентропії\n",
        "    return tf.reduce_mean(-tf.reduce_sum(y_true * tf.math.log(y_pred)))\n",
        "    # y_true - one-hot закодовані мітки класів\n",
        "    # tf.math.log(y_pred) - обчислює логарифм ймовірностей\n",
        "    # y_true * tf.math.log(y_pred) - поелементне множення one-hot закодованих міток класів на логарифми ймовірностей\n",
        "    # -tf.reduce_sum - обчислює суму всіх значень, а знак мінус вказує на те, що ми обчислюємо зворотню величину (втрати), а не значення функції корисності\n",
        "    # tf.reduce_mean - обчислює середнє значення втрат для всіх прикладів у партії\n",
        "\n",
        "# Як метрику якості використовуємо точність\n",
        "# Обчислимо її як відношення правильно класифікованих екземплярів до загальної кількості екземплярів (як середнє арифметичне точності для кожного прикладу в батчі)\n",
        "def accuracy(y_pred, y_true):\n",
        "    # Отримаємо індекс максимального значення для кожного класу\n",
        "    predicted_classes = tf.argmax(y_pred, axis=1)\n",
        "    # y_pred - передбаченні значення моделі (в межах від 0 до 1)\n",
        "    # tf.argmax - отримуємо індекс класу (максисимальне значення), який модель вважає найбільш ймовірним\n",
        "    # axis=1 - максимальне значення шукається вздовж другої осі, тобто вздовж стовпців\n",
        "\n",
        "    # Отримаємо індекси правильних класів\n",
        "    true_classes = tf.argmax(y_true, axis=1)\n",
        "    # y_true - one-hot закодовані мітки класів\n",
        "\n",
        "    # Порівняємо передбачені та правильні класи\n",
        "    correct_predictions = tf.equal(predicted_classes, true_classes)\n",
        "    # tf.equal - порівнює елементи двох тензорів та повертає булевий тензор, де True вказує на правильне передбачення\n",
        "\n",
        "    # Обчислимо середню точність\n",
        "    accuracy = tf.reduce_mean(tf.cast(correct_predictions, dtype=tf.float32))\n",
        "    # tf.cast - використовується для перетворення булевого тензора correct_predictions на тензор з числовими значеннями (0 та 1)\n",
        "    # tf.reduce_mean - обчислює середнє значення цього тензора, що відображає середню точність для всіх екземплярів\n",
        "\n",
        "    return accuracy"
      ]
    },
    {
      "cell_type": "code",
      "execution_count": null,
      "metadata": {
        "id": "MQeT1yatUSNW"
      },
      "outputs": [],
      "source": [
        "# Створимо екземпляр нейронної мережі\n",
        "neural_net = NN(name=\"mnist\")\n",
        "\n",
        "# Функція навчання нейромережі\n",
        "def train(neural_net, input_x, output_y):\n",
        "  # Для налаштування вагів мережі будемо використовувати стохастичний градієнтний спуск\n",
        "  optimizer = tf.optimizers.SGD(learning_rate)\n",
        "\n",
        "  # Активація автоматичного диференціювання\n",
        "  with tf.GradientTape() as g:\n",
        "    pred = neural_net(input_x)\n",
        "    loss = cross_entropy(pred, output_y)\n",
        "\n",
        "    # Отримаємо список оптимізованих параметрів\n",
        "    # Місце для вашого коду\n",
        "    # Обчислимо за ними значення градієнта\n",
        "    # Місце для вашого коду\n",
        "\n",
        "    # Модифікуємо параметри\n",
        "    # Місце для вашого коду"
      ]
    },
    {
      "cell_type": "code",
      "execution_count": null,
      "metadata": {
        "id": "fnyns9lBfpQZ"
      },
      "outputs": [],
      "source": [
        "# Тренування мережі\n",
        "\n",
        "loss_history = []  # кожні display_step кроків зберігай в цьому списку поточну помилку нейромережі\n",
        "accuracy_history = [] # кожні display_step кроків зберігай в цьому списку поточну точність нейромережі\n",
        "\n",
        "# У цьому циклі ми будемо проводити навчання нейронної мережі\n",
        "# із тренувального датасета train_data вилучи випадкову підмножину, на якій\n",
        "# відбудеться тренування. Використовуй метод take, доступний для тренувального датасета.\n",
        "for step, (batch_x, batch_y) in enumerate(train_data.take(training_steps), 1):\n",
        "    # Оновлюємо ваги нейронної мережі\n",
        "    # Місце для вашого коду\n",
        "\n",
        "    if step % display_step == 0:\n",
        "        pred = neural_net(batch_x)\n",
        "        # Місце для вашого коду\n"
      ]
    },
    {
      "cell_type": "code",
      "execution_count": null,
      "metadata": {
        "id": "_yCBfG6MbQB2"
      },
      "outputs": [],
      "source": [
        "# Виведіть графіки залежності зміни точності і втрат від кроку\n",
        "# Якщо все зроблено правильно, то точність повинна зростати, а втрати зменшуватись\n",
        "\n",
        "import matplotlib.pyplot as plt\n",
        "\n",
        "# Виведіть графік функції втрат\n",
        "# Місце для вашого коду\n",
        "\n",
        "# Виведіть графік точності\n",
        "# Місце для вашого коду\n"
      ]
    },
    {
      "cell_type": "code",
      "execution_count": null,
      "metadata": {
        "id": "LE3g4gDyUSNY"
      },
      "outputs": [],
      "source": [
        "# Обчисліть точність навченої нейромережі\n",
        "# Місце для вашого коду\n",
        "# Тестування моделі на тестових даних\n",
        "# Місце для вашого коду"
      ]
    },
    {
      "cell_type": "code",
      "execution_count": null,
      "metadata": {
        "id": "_EEHAubOUSNY"
      },
      "outputs": [],
      "source": [
        "# Протестуйте навчену нейромережу на 10 зображеннях. З тестової вибірки візьміть 5\n",
        "# випадкових зображень і передайте їх у нейронну мережу.\n",
        "# Виведіть зображення та випишіть  поруч відповідь нейромережі.\n",
        "# Зробіть висновок про те, чи помиляється твоя нейронна мережа, і якщо так, то як часто?\n",
        "\n",
        "# Місце для вашого коду\n",
        "\n",
        "\n"
      ]
    }
  ],
  "metadata": {
    "colab": {
      "provenance": []
    },
    "kernelspec": {
      "display_name": "Python 3 (ipykernel)",
      "language": "python",
      "name": "python3"
    },
    "language_info": {
      "codemirror_mode": {
        "name": "ipython",
        "version": 3
      },
      "file_extension": ".py",
      "mimetype": "text/x-python",
      "name": "python",
      "nbconvert_exporter": "python",
      "pygments_lexer": "ipython3",
      "version": "3.9.2"
    }
  },
  "nbformat": 4,
  "nbformat_minor": 0
}